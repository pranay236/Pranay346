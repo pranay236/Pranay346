{
 "cells": [
  {
   "cell_type": "markdown",
   "id": "516c4e4a-773d-4fbf-9659-d97c8421e22c",
   "metadata": {},
   "source": [
    "Answers"
   ]
  },
  {
   "cell_type": "markdown",
   "id": "e66efdb3-d141-4478-a1a3-7968be9a028e",
   "metadata": {},
   "source": [
    "Q1. Create one variable containing following type of data: \n",
    "(i) string \n",
    "(ii) list \n",
    "(iii) float \n",
    "(iv) tuple "
   ]
  },
  {
   "cell_type": "code",
   "execution_count": 1,
   "id": "b6640bfe-bcb7-4efb-97c3-1068f38177b9",
   "metadata": {},
   "outputs": [
    {
     "data": {
      "text/plain": [
       "str"
      ]
     },
     "execution_count": 1,
     "metadata": {},
     "output_type": "execute_result"
    }
   ],
   "source": [
    "#String \n",
    "string = \"Universe\"\n",
    "type(string)"
   ]
  },
  {
   "cell_type": "code",
   "execution_count": 2,
   "id": "de1bdb6c-c607-484d-8623-1f7ee602f17a",
   "metadata": {},
   "outputs": [
    {
     "data": {
      "text/plain": [
       "list"
      ]
     },
     "execution_count": 2,
     "metadata": {},
     "output_type": "execute_result"
    }
   ],
   "source": [
    "#list \n",
    "list_1 = [1,2,3,5,7]\n",
    "type(list_1)"
   ]
  },
  {
   "cell_type": "code",
   "execution_count": 3,
   "id": "d5694c93-06f4-43c5-8569-8610b32ae827",
   "metadata": {},
   "outputs": [
    {
     "data": {
      "text/plain": [
       "float"
      ]
     },
     "execution_count": 3,
     "metadata": {},
     "output_type": "execute_result"
    }
   ],
   "source": [
    "#float \n",
    "float_1 = 1.5 \n",
    "type(float_1)"
   ]
  },
  {
   "cell_type": "code",
   "execution_count": 4,
   "id": "3f054232-5f17-4eec-ace6-36c7963a976e",
   "metadata": {},
   "outputs": [
    {
     "data": {
      "text/plain": [
       "tuple"
      ]
     },
     "execution_count": 4,
     "metadata": {},
     "output_type": "execute_result"
    }
   ],
   "source": [
    "#tuple \n",
    "tuple_1 = (2,4,6,8)\n",
    "type(tuple_1)"
   ]
  },
  {
   "cell_type": "markdown",
   "id": "19329d4c-b6c6-462d-80d4-f647fcafa7e5",
   "metadata": {},
   "source": [
    "Q2. Given are some following variables containing data: \n",
    "(i) var1 = ‘ ‘ \n",
    "(ii) var2 = ‘[ DS , ML , Python]’ \n",
    "(iii) var3 = [ ‘DS’ , ’ML’ , ‘Python’ ] \n",
    "(iv) var4 = 1. \n",
    "What will be the data type of the above given variable"
   ]
  },
  {
   "cell_type": "code",
   "execution_count": 5,
   "id": "b5db6eeb-f214-4afb-abdf-b12dbc81adaf",
   "metadata": {},
   "outputs": [
    {
     "data": {
      "text/plain": [
       "str"
      ]
     },
     "execution_count": 5,
     "metadata": {},
     "output_type": "execute_result"
    }
   ],
   "source": [
    "#(i)\n",
    "var1 = ''\n",
    "type(var1)"
   ]
  },
  {
   "cell_type": "code",
   "execution_count": 6,
   "id": "c7c9e837-cd3f-42d7-a169-d1bed080be4c",
   "metadata": {},
   "outputs": [
    {
     "data": {
      "text/plain": [
       "str"
      ]
     },
     "execution_count": 6,
     "metadata": {},
     "output_type": "execute_result"
    }
   ],
   "source": [
    "var2 = '[DS,ML,Python]'\n",
    "type(var2)"
   ]
  },
  {
   "cell_type": "code",
   "execution_count": 7,
   "id": "4de0ac41-f80a-4504-bc39-fea2d7ca6a73",
   "metadata": {},
   "outputs": [
    {
     "data": {
      "text/plain": [
       "list"
      ]
     },
     "execution_count": 7,
     "metadata": {},
     "output_type": "execute_result"
    }
   ],
   "source": [
    "var3 = ['DS','ML','Python'] \n",
    "type(var3)"
   ]
  },
  {
   "cell_type": "code",
   "execution_count": 8,
   "id": "354ee3e5-e585-47d8-a953-db54a2e95ee3",
   "metadata": {},
   "outputs": [
    {
     "data": {
      "text/plain": [
       "int"
      ]
     },
     "execution_count": 8,
     "metadata": {},
     "output_type": "execute_result"
    }
   ],
   "source": [
    "var4 = 1 \n",
    "type(var4)"
   ]
  },
  {
   "cell_type": "markdown",
   "id": "a9206d12-8283-48fc-b2df-80587ebf0126",
   "metadata": {},
   "source": [
    "Q3. Explain the use of the following operators using an example: \n",
    "(i) / \n",
    "(ii) %  \n",
    "(iii) // \n",
    "(iv) ** "
   ]
  },
  {
   "cell_type": "code",
   "execution_count": 9,
   "id": "217c2cd5-02d7-4a9c-963d-2a5e8c86f657",
   "metadata": {},
   "outputs": [
    {
     "data": {
      "text/plain": [
       "5.0"
      ]
     },
     "execution_count": 9,
     "metadata": {},
     "output_type": "execute_result"
    }
   ],
   "source": [
    "25/5"
   ]
  },
  {
   "cell_type": "code",
   "execution_count": 10,
   "id": "3b73fced-50bb-430c-9363-c49d13156555",
   "metadata": {},
   "outputs": [
    {
     "data": {
      "text/plain": [
       "0"
      ]
     },
     "execution_count": 10,
     "metadata": {},
     "output_type": "execute_result"
    }
   ],
   "source": [
    "25%5"
   ]
  },
  {
   "cell_type": "code",
   "execution_count": 11,
   "id": "ccd98de6-5ab0-4ae5-bbc5-1a47bdbde383",
   "metadata": {},
   "outputs": [
    {
     "data": {
      "text/plain": [
       "16"
      ]
     },
     "execution_count": 11,
     "metadata": {},
     "output_type": "execute_result"
    }
   ],
   "source": [
    "33//2"
   ]
  },
  {
   "cell_type": "code",
   "execution_count": 12,
   "id": "5fa7ce1c-8b32-4381-aaa2-509c61389e39",
   "metadata": {},
   "outputs": [
    {
     "data": {
      "text/plain": [
       "100"
      ]
     },
     "execution_count": 12,
     "metadata": {},
     "output_type": "execute_result"
    }
   ],
   "source": [
    "10**2"
   ]
  },
  {
   "cell_type": "markdown",
   "id": "e9f41b86-4474-4f0f-9c34-c4f0a70b966d",
   "metadata": {},
   "source": [
    "Q4. Create a list of length 10 of your choice containing multiple types of data. Using for loop print the  element and its data type. "
   ]
  },
  {
   "cell_type": "code",
   "execution_count": 13,
   "id": "dcc2605f-4cd6-40ea-a425-1d180f4072ca",
   "metadata": {},
   "outputs": [
    {
     "name": "stdout",
     "output_type": "stream",
     "text": [
      "abc : <class 'str'>\n",
      "1.3 : <class 'float'>\n",
      "4 : <class 'int'>\n",
      "True : <class 'bool'>\n",
      "2 : <class 'int'>\n",
      "False : <class 'bool'>\n",
      "6 : <class 'int'>\n",
      "2.4 : <class 'float'>\n",
      "Code : <class 'str'>\n",
      "Repeat : <class 'str'>\n"
     ]
    }
   ],
   "source": [
    "list_2 = [\"abc\",1.3,4,True,2,False,6,2.4,\"Code\",\"Repeat\"]\n",
    "\n",
    "for n in list_2:\n",
    "    print(n,end=\" : \")\n",
    "    print(type(n))"
   ]
  },
  {
   "cell_type": "markdown",
   "id": "75ccbde5-d545-4ee0-884e-df93cbccda25",
   "metadata": {},
   "source": [
    "Q5. Using a while loop, verify if the number A is purely divisible by number B and if so then how many  times it can be divisible."
   ]
  },
  {
   "cell_type": "code",
   "execution_count": 26,
   "id": "5fca488b-d5c3-4202-8d69-44f0fac1c2ac",
   "metadata": {},
   "outputs": [
    {
     "name": "stdout",
     "output_type": "stream",
     "text": [
      "2 is divisible by 10 , 1 times\n"
     ]
    }
   ],
   "source": [
    "A = 10 \n",
    "B = 2\n",
    "c = 0 \n",
    "while A%B == 0:\n",
    "    A /= B \n",
    "    c +=1\n",
    "print(f'{B} is divisible by 10 , {c} times')"
   ]
  },
  {
   "cell_type": "markdown",
   "id": "825f7521-6ee3-4c1f-bc6d-9fa22cd5394b",
   "metadata": {},
   "source": [
    "Q6. Create a list containing 25 int type data. Using for loop and if-else condition print if the element is  divisible by 3 or not. "
   ]
  },
  {
   "cell_type": "code",
   "execution_count": 20,
   "id": "27895b34-3ffe-41ef-9f76-4d9d46dddc27",
   "metadata": {},
   "outputs": [
    {
     "name": "stdout",
     "output_type": "stream",
     "text": [
      "1 Not Divisible by 3\n",
      "2 Not Divisible by 3\n",
      "3 Divisible by 3\n",
      "4 Not Divisible by 3\n",
      "5 Not Divisible by 3\n",
      "6 Divisible by 3\n",
      "7 Not Divisible by 3\n",
      "8 Not Divisible by 3\n",
      "9 Divisible by 3\n",
      "10 Not Divisible by 3\n",
      "11 Not Divisible by 3\n",
      "12 Divisible by 3\n",
      "13 Not Divisible by 3\n",
      "14 Not Divisible by 3\n",
      "15 Divisible by 3\n",
      "16 Not Divisible by 3\n",
      "17 Not Divisible by 3\n",
      "18 Divisible by 3\n",
      "19 Not Divisible by 3\n",
      "20 Not Divisible by 3\n",
      "21 Divisible by 3\n",
      "22 Not Divisible by 3\n",
      "23 Not Divisible by 3\n",
      "24 Divisible by 3\n",
      "25 Not Divisible by 3\n"
     ]
    }
   ],
   "source": [
    "numbers = range(1,26)\n",
    "for n in numbers:\n",
    "    if n%3 == 0:\n",
    "        print(n,\"Divisible by 3\")\n",
    "    else:\n",
    "        print(n,\"Not Divisible by 3\")"
   ]
  },
  {
   "cell_type": "markdown",
   "id": "8f6843d3-4f33-43c0-ac2a-a86a9b263b2f",
   "metadata": {},
   "source": [
    "Q7. What do you understand about mutable and immutable data types? Give examples for both showing  this property. "
   ]
  },
  {
   "cell_type": "markdown",
   "id": "212a35d3-a573-4d4f-bba1-42615bed47c7",
   "metadata": {},
   "source": [
    "**Mutable Data types : \n",
    "The data types which can be altered or changed are called Mutable Data types**"
   ]
  },
  {
   "cell_type": "code",
   "execution_count": 24,
   "id": "a467aeac-fcb3-4db7-b1f9-f21e3f88f47b",
   "metadata": {},
   "outputs": [
    {
     "name": "stdout",
     "output_type": "stream",
     "text": [
      "[5, 6, 'Blue', 22, 'green']\n"
     ]
    }
   ],
   "source": [
    "a = [5,6,\"Red\",22]\n",
    "a[2] = \"Blue\"\n",
    "a.append(\"green\")\n",
    "print(a)"
   ]
  },
  {
   "cell_type": "markdown",
   "id": "d5c417bb-2d31-498c-b692-a7d6538092de",
   "metadata": {},
   "source": [
    "The above code runs because lists, sets, dictionaries are mutable data types"
   ]
  },
  {
   "cell_type": "markdown",
   "id": "a2f87cfc-0ea5-4665-ae8a-7e1a0a84e736",
   "metadata": {},
   "source": [
    "**Immutable Data types : \n",
    " The data types which cannot be altered or changed are called Immutable Data Types**"
   ]
  },
  {
   "cell_type": "code",
   "execution_count": 23,
   "id": "28d63bb9-93df-4827-9c88-093f5d94dd89",
   "metadata": {},
   "outputs": [
    {
     "ename": "TypeError",
     "evalue": "'str' object does not support item assignment",
     "output_type": "error",
     "traceback": [
      "\u001b[0;31m---------------------------------------------------------------------------\u001b[0m",
      "\u001b[0;31mTypeError\u001b[0m                                 Traceback (most recent call last)",
      "Cell \u001b[0;32mIn[23], line 5\u001b[0m\n\u001b[1;32m      1\u001b[0m \u001b[38;5;66;03m# \"Immutable Data types\"\u001b[39;00m\n\u001b[1;32m      2\u001b[0m \u001b[38;5;66;03m# The data types which cannot be altered or changed are called Immutable Data Types\u001b[39;00m\n\u001b[1;32m      4\u001b[0m a \u001b[38;5;241m=\u001b[39m \u001b[38;5;124m\"\u001b[39m\u001b[38;5;124mSpring\u001b[39m\u001b[38;5;124m\"\u001b[39m\n\u001b[0;32m----> 5\u001b[0m \u001b[43ma\u001b[49m\u001b[43m[\u001b[49m\u001b[38;5;241;43m2\u001b[39;49m\u001b[43m]\u001b[49m \u001b[38;5;241m=\u001b[39m \u001b[38;5;124m\"\u001b[39m\u001b[38;5;124mh\u001b[39m\u001b[38;5;124m\"\u001b[39m\n\u001b[1;32m      6\u001b[0m \u001b[38;5;28mprint\u001b[39m(a)\n",
      "\u001b[0;31mTypeError\u001b[0m: 'str' object does not support item assignment"
     ]
    }
   ],
   "source": [
    "a = \"Spring\"\n",
    "a[2] = \"h\"\n",
    "print(a)"
   ]
  },
  {
   "cell_type": "markdown",
   "id": "eb69817e-a762-4f31-9a7b-41602c3ea065",
   "metadata": {},
   "source": [
    " It throws an error as tuples and strings are immutable data types"
   ]
  },
  {
   "cell_type": "code",
   "execution_count": null,
   "id": "94834f88-f61d-41bf-86cb-37c12e03ee83",
   "metadata": {},
   "outputs": [],
   "source": []
  }
 ],
 "metadata": {
  "kernelspec": {
   "display_name": "Python 3 (ipykernel)",
   "language": "python",
   "name": "python3"
  },
  "language_info": {
   "codemirror_mode": {
    "name": "ipython",
    "version": 3
   },
   "file_extension": ".py",
   "mimetype": "text/x-python",
   "name": "python",
   "nbconvert_exporter": "python",
   "pygments_lexer": "ipython3",
   "version": "3.10.8"
  }
 },
 "nbformat": 4,
 "nbformat_minor": 5
}
